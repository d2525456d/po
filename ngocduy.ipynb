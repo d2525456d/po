{
 "cells": [
  {
   "cell_type": "markdown",
   "metadata": {
    "id": "YZnWnwAe3UYQ"
   },
   "source": [
    "THỰC HÀNH THỐNG KÊ MÔ TẢ VỚI DỮ LIỆU ĐỊNH LƯỢNG\n",
    "\n",
    "Sử dụng tập dữ liệu microbiome.csv được cung cấp để hoàn thành các bài tập sau"
   ]
  },
  {
   "cell_type": "markdown",
   "metadata": {
    "id": "Eekok-4F3UYU"
   },
   "source": [
    "Câu 1: Tải tập dữ liệu microbiome.csv vào bộ nhớ (sử dụng pandas)"
   ]
  },
  {
   "cell_type": "code",
   "execution_count": 5,
   "metadata": {
    "id": "FiRWXvV93UYU"
   },
   "outputs": [
    {
     "name": "stdout",
     "output_type": "stream",
     "text": [
      "         Taxon  Patient  Tissue  Stool\n",
      "0   Firmicutes        1     632    305\n",
      "1   Firmicutes        2     136   4182\n",
      "2   Firmicutes        3    1174    703\n",
      "3   Firmicutes        4     408   3946\n",
      "4   Firmicutes        5     831   8605\n",
      "..         ...      ...     ...    ...\n",
      "70       Other       11     203      6\n",
      "71       Other       12     392      6\n",
      "72       Other       13      28     25\n",
      "73       Other       14      12     22\n",
      "74       Other       15     305     32\n",
      "\n",
      "[75 rows x 4 columns]\n"
     ]
    }
   ],
   "source": [
    "import pandas as pd\n",
    "import numpy as np\n",
    "\n",
    "\n",
    "save = pd.read_csv('C:\\\\Users\\\\DELL\\\\Downloads\\\\microbiome.csv')\n",
    "print(save)\n"
   ]
  },
  {
   "cell_type": "markdown",
   "metadata": {
    "id": "KyNIrI8E3UYV"
   },
   "source": [
    "NHÓM CÁC CÂU LỆNH THỰC HIỆN CÁC PHÉP TÍNH HƯỚNG TÂM\n",
    "\n",
    "Câu 2: Hãy tính trung bình cộng của cột Patient"
   ]
  },
  {
   "cell_type": "code",
   "execution_count": 8,
   "metadata": {
    "id": "DbG7fE6e3UYW"
   },
   "outputs": [
    {
     "data": {
      "text/plain": [
       "8.0"
      ]
     },
     "execution_count": 8,
     "metadata": {},
     "output_type": "execute_result"
    }
   ],
   "source": [
    "np.mean(save['Patient'])"
   ]
  },
  {
   "cell_type": "markdown",
   "metadata": {
    "id": "-RrWTwK83UYW"
   },
   "source": [
    "Câu 3: Hãy tính trung bình cộng (mean) đồng thời cho 3 cột Patient, Tissue và Stool"
   ]
  },
  {
   "cell_type": "code",
   "execution_count": 12,
   "metadata": {
    "id": "3P9D12je3UYW"
   },
   "outputs": [
    {
     "data": {
      "text/plain": [
       "Patient      8.000000\n",
       "Tissue     975.000000\n",
       "Stool      723.786667\n",
       "dtype: float64"
      ]
     },
     "execution_count": 12,
     "metadata": {},
     "output_type": "execute_result"
    }
   ],
   "source": [
    "np.mean(save[['Patient', 'Tissue', 'Stool']])"
   ]
  },
  {
   "cell_type": "markdown",
   "metadata": {
    "id": "bm9lvgmj3UYX"
   },
   "source": [
    "Câu 4: Hãy tính trung vị (median) cho 2 cột Tissue và Stool"
   ]
  },
  {
   "cell_type": "code",
   "execution_count": 55,
   "metadata": {
    "id": "A7E-OO0E3UYX"
   },
   "outputs": [
    {
     "name": "stdout",
     "output_type": "stream",
     "text": [
      "Trung vị của cột Tissue là: 310.0\n",
      "Trung vị của cột Stool: 80.0\n",
      "Trung vị của  216.0\n"
     ]
    }
   ],
   "source": [
    "from numpy import median\n",
    "\n",
    "print('Trung vị của cột Tissue là:',median(save['Tissue']))\n",
    "print('Trung vị của cột Stool:',median(save['Stool']))\n",
    "print('Trung vị của 2 cột là ',median(save[['Tissue','Stool']]))"
   ]
  },
  {
   "cell_type": "markdown",
   "metadata": {
    "id": "iOD2dh1w3UYX"
   },
   "source": [
    "Câu 5: Hãy tính số yếu vị (mode) cho 3 cột Patient, Tissue và Stool"
   ]
  },
  {
   "cell_type": "code",
   "execution_count": 63,
   "metadata": {
    "id": "20GjQj4V3UYX"
   },
   "outputs": [
    {
     "name": "stdout",
     "output_type": "stream",
     "text": [
      "số yếu vị của cột Patient là: 1\n",
      "số yếu vị của cột Tissue là: 678\n",
      "số yếu vị của cột Stool là: 2\n"
     ]
    }
   ],
   "source": [
    "import statistics\n",
    "print('số yếu vị của cột Patient là:',statistics.mode(save['Patient']))\n",
    "print('số yếu vị của cột Tissue là:',statistics.mode(save['Tissue']))\n",
    "print('số yếu vị của cột Stool là:',statistics.mode(save['Stool']))\n",
    "\n"
   ]
  },
  {
   "cell_type": "markdown",
   "metadata": {
    "id": "xdIc6QSh3UYX"
   },
   "source": [
    "NHÓM CÂU LỆNH TÍNH PHƯƠNG SAI - ĐỘ LỆCH CHUẨN\n",
    "\n",
    "Câu 6: Hãy tính phương sai (variance) của cột Tissue"
   ]
  },
  {
   "cell_type": "code",
   "execution_count": 69,
   "metadata": {
    "id": "J9M4O_u03UYY"
   },
   "outputs": [
    {
     "data": {
      "text/plain": [
       "3306370.027027027"
      ]
     },
     "execution_count": 69,
     "metadata": {},
     "output_type": "execute_result"
    }
   ],
   "source": [
    "statistics.variance(save['Tissue'])"
   ]
  },
  {
   "cell_type": "markdown",
   "metadata": {
    "id": "Ts2rFB6R3UYY"
   },
   "source": [
    "Câu 7: Hãy tính phương sai của 3 cột Patient, Tissue và Stool"
   ]
  },
  {
   "cell_type": "code",
   "execution_count": 41,
   "metadata": {
    "id": "9rq8Ax2r3UYY"
   },
   "outputs": [
    {
     "name": "stdout",
     "output_type": "stream",
     "text": [
      "Phương sai của cột Patient là : 18.91891891891892\n",
      "Phương sai của cột Tissue là : 3306370.027027027\n",
      "Phương sai của cột Stool là : 2108250.9538738737\n"
     ]
    }
   ],
   "source": [
    "\n",
    "print('Phương sai của cột Patient là :',statistics.variance(save['Patient']))\n",
    "print('Phương sai của cột Tissue là :',statistics.variance(save['Tissue']))\n",
    "print('Phương sai của cột Stool là :',statistics.variance(save['Stool']))"
   ]
  },
  {
   "cell_type": "markdown",
   "metadata": {
    "id": "wi1eoUIr3UYY"
   },
   "source": [
    "Câu 8: Hãy tính độ lệch chuẩn (standard deviation) của 3 cột Patient, Tissue và Stool"
   ]
  },
  {
   "cell_type": "code",
   "execution_count": 32,
   "metadata": {
    "id": "6Gc_oO673UYY"
   },
   "outputs": [
    {
     "name": "stdout",
     "output_type": "stream",
     "text": [
      "Độ lệch chuẩn của cột Patient là : 4.3495883620084\n",
      "Độ lệch chuẩn của cột Tissue là : 1818.342659409119\n",
      "Độ lệch chuẩn của cột Stool là : 1451.9817333127417\n"
     ]
    }
   ],
   "source": [
    "print('Độ lệch chuẩn của cột Patient là :',statistics.stdev(save['Patient']))\n",
    "print('Độ lệch chuẩn của cột Tissue là :',statistics.stdev(save['Tissue']))\n",
    "print('Độ lệch chuẩn của cột Stool là :',statistics.stdev(save['Stool']))"
   ]
  },
  {
   "cell_type": "markdown",
   "metadata": {
    "id": "3YeHBdmo3UYY"
   },
   "source": [
    "NHÓM CÂU LỆNH TÍNH PHÂN VỊ (PERCENTILE)"
   ]
  },
  {
   "cell_type": "markdown",
   "metadata": {
    "id": "LnGc9zBm3UYZ"
   },
   "source": [
    "Câu 9: Tính Q1 Q2 và Q3 cho cột Tissue\n",
    "\n",
    "Tham khảo:\n",
    "\n",
    "1) https://www.geeksforgeeks.org/python-pandas-dataframe-quantile/\n",
    "\n",
    "2) https://stackoverflow.com/questions/45926230/how-to-calculate-1st-and-3rd-quartiles/45926291"
   ]
  },
  {
   "cell_type": "code",
   "execution_count": 39,
   "metadata": {
    "id": "cjju7ukc3UYZ"
   },
   "outputs": [
    {
     "name": "stdout",
     "output_type": "stream",
     "text": [
      "Q1= 108.0\n",
      "Q2= 310.0\n",
      "Q3= 835.0\n"
     ]
    }
   ],
   "source": [
    "q1 = np.percentile(save['Tissue'],25)\n",
    "q2 = np.percentile(save['Tissue'],50)\n",
    "q3 = np.percentile(save['Tissue'],75)\n",
    "print('Q1=',q1)\n",
    "print('Q2=',q2)\n",
    "print('Q3=',q3)"
   ]
  },
  {
   "cell_type": "markdown",
   "metadata": {
    "id": "xJndwy8e3UYZ"
   },
   "source": [
    "Câu 10: Hãy tính z-score cho cột Tissue\n",
    "\n",
    "Gợi ý: sử dụng hàm zscore của thư viện scipy\n",
    "\n",
    "Tham khảo: https://stackoverflow.com/questions/24761998/pandas-compute-z-score-for-all-columns"
   ]
  },
  {
   "cell_type": "code",
   "execution_count": 62,
   "metadata": {
    "id": "7dU5KxRz3UYZ"
   },
   "outputs": [
    {
     "data": {
      "text/plain": [
       "array([-0.18990359, -0.46451635,  0.1101773 , -0.31392225, -0.07972629,\n",
       "       -0.15613064, -0.14228928, -0.44403112, -0.41358011, -0.45012133,\n",
       "       -0.33385382,  1.81598764, -0.48057234, -0.48666254, -0.38423641,\n",
       "        0.36707311,  0.82716022, -0.07529705,  1.90401875,  6.12840462,\n",
       "        0.73912911,  1.15049461, -0.32111977,  0.92792539,  0.12180405,\n",
       "        3.25659734, -0.27239815,  1.09346817,  0.3133686 ,  0.18381338,\n",
       "       -0.22478384,  0.34049768, -0.52597203, -0.39641681, -0.22533749,\n",
       "        0.07031416, -0.16443547, -0.39586316, -0.30506378, -0.23641059,\n",
       "       -0.42852879, -0.5165599 , -0.47946503, -0.51157701, -0.36818042,\n",
       "       -0.4761431 , -0.50271853, -0.5398134 , -0.49275274, -0.46064077,\n",
       "       -0.16443547,  2.13378547, -0.49884295, -0.44624574, -0.48112599,\n",
       "       -0.4993966 , -0.52320376, -0.51157701,  0.82937484, -0.48334061,\n",
       "       -0.47669676, -0.43185072, -0.5165599 , -0.36485849, -0.42797514,\n",
       "       -0.47558945, -0.24803734, -0.34215865, -0.48112599, -0.50271853,\n",
       "       -0.42742148, -0.32278073, -0.52431107, -0.53316954, -0.37094869])"
      ]
     },
     "execution_count": 62,
     "metadata": {},
     "output_type": "execute_result"
    }
   ],
   "source": [
    "from scipy.stats import zscore\n",
    "zscore(save['Tissue'])"
   ]
  },
  {
   "cell_type": "markdown",
   "metadata": {
    "id": "0OlWfP1a3UYZ"
   },
   "source": [
    "NHÓM CÂU LỆNH TỔNG HỢP\n",
    "\n",
    "Câu 11: (bổ sung) Hãy tính giá trị lớn nhất và nhỏ nhất của 3 cột Patient, Tissue và Stool"
   ]
  },
  {
   "cell_type": "code",
   "execution_count": 49,
   "metadata": {
    "id": "QA8zJjwh3UYZ"
   },
   "outputs": [
    {
     "name": "stdout",
     "output_type": "stream",
     "text": [
      "Giá trị lớn nhất và nhỏ nhất của cột Patient lần lượt là: 15 và 1\n",
      "Giá trị lớn nhất và nhỏ nhất của cột Tissue lần lượt là: 12044 và 0\n",
      "Giá trị lớn nhất và nhỏ nhất của cột Stool lần lượt là: 8605 và 0\n"
     ]
    }
   ],
   "source": [
    "print('Giá trị lớn nhất và nhỏ nhất của cột Patient lần lượt là:',max(save['Patient']),'và',min(save['Patient']))\n",
    "print('Giá trị lớn nhất và nhỏ nhất của cột Tissue lần lượt là:',max(save['Tissue']),'và',min(save['Tissue']))\n",
    "print('Giá trị lớn nhất và nhỏ nhất của cột Stool lần lượt là:',max(save['Stool']),'và',min(save['Stool']))"
   ]
  },
  {
   "cell_type": "markdown",
   "metadata": {
    "id": "SpcuMP0Q3UYZ"
   },
   "source": [
    "Câu 12: Hãy thực thi hàm describe đối với data frame chứa dữ liệu của microbiome.csv\n",
    "\n",
    "Tham khảo: https://pandas.pydata.org/docs/reference/api/pandas.DataFrame.describe.html"
   ]
  },
  {
   "cell_type": "code",
   "execution_count": 50,
   "metadata": {
    "id": "RTOOotFp3UYa"
   },
   "outputs": [
    {
     "data": {
      "text/html": [
       "<div>\n",
       "<style scoped>\n",
       "    .dataframe tbody tr th:only-of-type {\n",
       "        vertical-align: middle;\n",
       "    }\n",
       "\n",
       "    .dataframe tbody tr th {\n",
       "        vertical-align: top;\n",
       "    }\n",
       "\n",
       "    .dataframe thead th {\n",
       "        text-align: right;\n",
       "    }\n",
       "</style>\n",
       "<table border=\"1\" class=\"dataframe\">\n",
       "  <thead>\n",
       "    <tr style=\"text-align: right;\">\n",
       "      <th></th>\n",
       "      <th>Patient</th>\n",
       "      <th>Tissue</th>\n",
       "      <th>Stool</th>\n",
       "    </tr>\n",
       "  </thead>\n",
       "  <tbody>\n",
       "    <tr>\n",
       "      <th>count</th>\n",
       "      <td>75.000000</td>\n",
       "      <td>75.000000</td>\n",
       "      <td>75.000000</td>\n",
       "    </tr>\n",
       "    <tr>\n",
       "      <th>mean</th>\n",
       "      <td>8.000000</td>\n",
       "      <td>975.000000</td>\n",
       "      <td>723.786667</td>\n",
       "    </tr>\n",
       "    <tr>\n",
       "      <th>std</th>\n",
       "      <td>4.349588</td>\n",
       "      <td>1818.342659</td>\n",
       "      <td>1451.981733</td>\n",
       "    </tr>\n",
       "    <tr>\n",
       "      <th>min</th>\n",
       "      <td>1.000000</td>\n",
       "      <td>0.000000</td>\n",
       "      <td>0.000000</td>\n",
       "    </tr>\n",
       "    <tr>\n",
       "      <th>25%</th>\n",
       "      <td>4.000000</td>\n",
       "      <td>108.000000</td>\n",
       "      <td>16.000000</td>\n",
       "    </tr>\n",
       "    <tr>\n",
       "      <th>50%</th>\n",
       "      <td>8.000000</td>\n",
       "      <td>310.000000</td>\n",
       "      <td>80.000000</td>\n",
       "    </tr>\n",
       "    <tr>\n",
       "      <th>75%</th>\n",
       "      <td>12.000000</td>\n",
       "      <td>835.000000</td>\n",
       "      <td>656.000000</td>\n",
       "    </tr>\n",
       "    <tr>\n",
       "      <th>max</th>\n",
       "      <td>15.000000</td>\n",
       "      <td>12044.000000</td>\n",
       "      <td>8605.000000</td>\n",
       "    </tr>\n",
       "  </tbody>\n",
       "</table>\n",
       "</div>"
      ],
      "text/plain": [
       "         Patient        Tissue        Stool\n",
       "count  75.000000     75.000000    75.000000\n",
       "mean    8.000000    975.000000   723.786667\n",
       "std     4.349588   1818.342659  1451.981733\n",
       "min     1.000000      0.000000     0.000000\n",
       "25%     4.000000    108.000000    16.000000\n",
       "50%     8.000000    310.000000    80.000000\n",
       "75%    12.000000    835.000000   656.000000\n",
       "max    15.000000  12044.000000  8605.000000"
      ]
     },
     "execution_count": 50,
     "metadata": {},
     "output_type": "execute_result"
    }
   ],
   "source": [
    "pd.DataFrame.describe(save)"
   ]
  },
  {
   "cell_type": "markdown",
   "metadata": {
    "id": "KYUmeFmw3UYa"
   },
   "source": [
    "NHÓM CÂU LỆNH ĐỒ HỌA\n",
    "\n",
    "Câu 13: Hãy vẽ biểu đồ box plot cho cột Tissue"
   ]
  },
  {
   "cell_type": "code",
   "execution_count": 52,
   "metadata": {
    "id": "TSAVziLW3UYa"
   },
   "outputs": [
    {
     "data": {
      "text/plain": [
       "<AxesSubplot:>"
      ]
     },
     "execution_count": 52,
     "metadata": {},
     "output_type": "execute_result"
    },
    {
     "data": {
      "image/png": "[encoded data removed]",
      "text/plain": [
       "<Figure size 432x288 with 1 Axes>"
      ]
     },
     "metadata": {
      "needs_background": "light"
     },
     "output_type": "display_data"
    }
   ],
   "source": [
    "pd.DataFrame.boxplot(save['Tissue'])"
   ]
  },
  {
   "cell_type": "markdown",
   "metadata": {
    "id": "MwJB69A03UYa"
   },
   "source": [
    "Câu 14: Hãy vẽ biểu đồ box plot cho cả 2 cột Tissue và Stool chung 1 hình (gồm có 2 box plot)"
   ]
  },
  {
   "cell_type": "code",
   "execution_count": 77,
   "metadata": {
    "id": "_MHvuLc53UYa"
   },
   "outputs": [
    {
     "data": {
      "text/plain": [
       "<AxesSubplot:>"
      ]
     },
     "execution_count": 77,
     "metadata": {},
     "output_type": "execute_result"
    },
    {
     "data": {
      "image/png": "[encoded data removed]",
      "text/plain": [
       "<Figure size 432x288 with 1 Axes>"
      ]
     },
     "metadata": {
      "needs_background": "light"
     },
     "output_type": "display_data"
    }
   ],
   "source": [
    "pd.DataFrame.boxplot(save[['Tissue','Stool']])"
   ]
  },
  {
   "cell_type": "markdown",
   "metadata": {
    "id": "QrTRcJrz3UYa"
   },
   "source": [
    "Câu 15: Hãy vẽ lại câu 14 với các box plot nằm ngang"
   ]
  },
  {
   "cell_type": "code",
   "execution_count": 78,
   "metadata": {
    "id": "PZKPMFaC3UYa"
   },
   "outputs": [
    {
     "data": {
      "text/plain": [
       "<AxesSubplot:>"
      ]
     },
     "execution_count": 78,
     "metadata": {},
     "output_type": "execute_result"
    },
    {
     "data": {
      "image/png": "[encoded data removed]",
      "text/plain": [
       "<Figure size 432x288 with 1 Axes>"
      ]
     },
     "metadata": {
      "needs_background": "light"
     },
     "output_type": "display_data"
    }
   ],
   "source": [
    "pd.DataFrame.boxplot(save[['Tissue','Stool']],vert = 0)"
   ]
  },
  {
   "cell_type": "markdown",
   "metadata": {
    "id": "2LPFwa9Q3UYb"
   },
   "source": [
    "Câu 16: Hãy sử dụng thư viện seaborn để vẽ biểu đồ box plot cho Tissue và Stool"
   ]
  },
  {
   "cell_type": "code",
   "execution_count": 91,
   "metadata": {
    "id": "Q_eidepH3UYb"
   },
   "outputs": [
    {
     "data": {
      "text/plain": [
       "<AxesSubplot:>"
      ]
     },
     "execution_count": 91,
     "metadata": {},
     "output_type": "execute_result"
    },
    {
     "data": {
      "image/png": "[encoded data removed]",
      "text/plain": [
       "<Figure size 432x288 with 1 Axes>"
      ]
     },
     "metadata": {
      "needs_background": "light"
     },
     "output_type": "display_data"
    }
   ],
   "source": [
    "import seaborn as sns\n",
    "sns.boxplot(data=(save[['Tissue','Stool']]))\n"
   ]
  },
  {
   "cell_type": "code",
   "execution_count": null,
   "metadata": {},
   "outputs": [],
   "source": []
  }
 ],
 "metadata": {
  "colab": {
   "name": "thuc-hanh-03.ipynb",
   "provenance": []
  },
  "kernelspec": {
   "display_name": "Python 3",
   "language": "python",
   "name": "python3"
  },
  "language_info": {
   "codemirror_mode": {
    "name": "ipython",
    "version": 3
   },
   "file_extension": ".py",
   "mimetype": "text/x-python",
   "name": "python",
   "nbconvert_exporter": "python",
   "pygments_lexer": "ipython3",
   "version": "3.8.5"
  }
 },
 "nbformat": 4,
 "nbformat_minor": 1
}
